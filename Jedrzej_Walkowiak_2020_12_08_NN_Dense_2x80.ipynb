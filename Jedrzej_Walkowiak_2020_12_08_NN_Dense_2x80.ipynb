{
  "nbformat": 4,
  "nbformat_minor": 0,
  "metadata": {
    "colab": {
      "name": "Jedrzej Walkowiak 2020_12_08_NN_Dense_2x80",
      "provenance": [],
      "collapsed_sections": [],
      "include_colab_link": true
    },
    "kernelspec": {
      "name": "python3",
      "display_name": "Python 3"
    }
  },
  "cells": [
    {
      "cell_type": "markdown",
      "metadata": {
        "id": "view-in-github",
        "colab_type": "text"
      },
      "source": [
        "<a href=\"https://colab.research.google.com/github/marcinwolter/MachineLearning2020_projects/blob/main/Jedrzej_Walkowiak_2020_12_08_NN_Dense_2x80.ipynb\" target=\"_parent\"><img src=\"https://colab.research.google.com/assets/colab-badge.svg\" alt=\"Open In Colab\"/></a>"
      ]
    },
    {
      "cell_type": "markdown",
      "metadata": {
        "id": "Lf6QU146qfOc"
      },
      "source": [
        "Simple NN framework based on \n",
        "https://colab.research.google.com/github/google/eng-edu/blob/master/ml/cc/exercises/intro_to_neural_nets.ipynb?utm_source=mlcc&utm_campaign=colab-external&utm_medium=referral&utm_content=intro_to_nn_tf2-colab&hl=en#scrollTo=Pu7R_ZpDopIj\n",
        "and \n",
        "https://colab.research.google.com/github/google/eng-edu/blob/master/ml/cc/exercises/multi-class_classification_with_MNIST.ipynb?utm_source=mlcc&utm_campaign=colab-external&utm_medium=referral&utm_content=multiclass_tf2-colab&hl=en#scrollTo=siRC8a1hJvmq"
      ]
    },
    {
      "cell_type": "code",
      "metadata": {
        "id": "IaqTlJABiqCe"
      },
      "source": [
        "#@title Import modules\n",
        "\n",
        "import tensorflow as tf\n",
        "\n",
        "from tensorflow.keras import datasets, layers, models\n",
        "\n",
        "import matplotlib.pyplot as plt\n",
        "import pandas as pd\n",
        "import numpy as np\n",
        "\n",
        "#module which allows file transfer in google collab\n",
        "from google.colab import files\n",
        "\n",
        "#set pandas display options\n",
        "#pd.options.display.float_format = \"{:.2f}\".format\n",
        "#set numpy display options\n",
        "np.set_printoptions(precision=3)"
      ],
      "execution_count": null,
      "outputs": []
    },
    {
      "cell_type": "code",
      "metadata": {
        "id": "USwxYym4dH1w"
      },
      "source": [
        "#@title Import files from gdrive\n",
        "\n",
        "#There are to other methods to do this, this one don't require installing new modules\n",
        "#Alternative ways are gdown or GoogleDriveDownloader\n",
        "#https://stackoverflow.com/questions/25010369/wget-curl-large-file-from-google-drive/39225039#39225039\n",
        "#https://stackoverflow.com/questions/38511444/python-download-files-from-google-drive-using-url\n",
        "\n",
        "import requests\n",
        "\n",
        "def download_file_from_google_drive(id, destination):\n",
        "\n",
        "    URL = \"https://docs.google.com/uc?export=download\"\n",
        "\n",
        "    session = requests.Session()\n",
        "\n",
        "    response = session.get(URL, params = { 'id' : id }, stream = True)\n",
        "    token = get_confirm_token(response)\n",
        "\n",
        "    if token:\n",
        "        params = { 'id' : id, 'confirm' : token }\n",
        "        response = session.get(URL, params = params, stream = True)\n",
        "\n",
        "    save_response_content(response, destination)    \n",
        "\n",
        "def get_confirm_token(response):\n",
        "    for key, value in response.cookies.items():\n",
        "        if key.startswith('download_warning'):\n",
        "            return value\n",
        "\n",
        "    return None\n",
        "\n",
        "def save_response_content(response, destination):\n",
        "    CHUNK_SIZE = 32768\n",
        "\n",
        "    with open(destination, \"wb\") as f:\n",
        "        for chunk in response.iter_content(CHUNK_SIZE):\n",
        "            if chunk: # filter out keep-alive new chunks\n",
        "                f.write(chunk)\n",
        "\n",
        "if __name__ == \"__main__\":\n",
        "    file_id = '16pabxSKkArdYulPVorKkXT-ihtY1f9M2'\n",
        "    destination = 'test_data.npy'\n",
        "    download_file_from_google_drive(file_id, destination)\n",
        "\n",
        "    file_id = '1CdW6RfeldJIu9ClgJggpxxwkvnWXoExQ'\n",
        "    destination = 'validation_data.npy'\n",
        "    download_file_from_google_drive(file_id, destination)\n",
        "\n",
        "    file_id = '1meFbIDsfEULvs7fm61wZvsqPpY77hsaL'\n",
        "    destination = 'training_data.npy'\n",
        "    download_file_from_google_drive(file_id, destination)"
      ],
      "execution_count": null,
      "outputs": []
    },
    {
      "cell_type": "code",
      "metadata": {
        "id": "2zJTH7pO5yqH"
      },
      "source": [
        "#uploaded = files.upload()\n",
        "#Load files into numpy arrays\n",
        "training_data = np.load('training_data.npy',allow_pickle=True)\n",
        "test_data=np.load('test_data.npy',allow_pickle=True)\n",
        "validation_data=np.load('validation_data.npy',allow_pickle=True)"
      ],
      "execution_count": null,
      "outputs": []
    },
    {
      "cell_type": "code",
      "metadata": {
        "id": "WAm8zWDzjINl",
        "colab": {
          "base_uri": "https://localhost:8080/",
          "height": 546
        },
        "outputId": "0e22a7c2-81ce-4676-9c4c-639d8b6ab73a"
      },
      "source": [
        "# Create training and test data\n",
        "\n",
        "#Training data\n",
        "detectors_readings = np.stack(training_data[:,0])\n",
        "detectors_readings = detectors_readings.reshape(-1,np.shape(detectors_readings)[1])\n",
        "poloidal_crossection = np.stack(training_data[:,1])\n",
        "poloidal_crossection = poloidal_crossection.reshape(-1,np.shape(poloidal_crossection)[1])\n",
        "\n",
        "#Test data\n",
        "test_detectors_readings = np.stack(test_data[:,0])\n",
        "test_detectors_readings = test_detectors_readings.reshape(-1,np.shape(test_detectors_readings)[1])\n",
        "test_poloidal_crossection = np.stack(test_data[:,1])\n",
        "test_poloidal_crossection = test_poloidal_crossection.reshape(-1,np.shape(test_poloidal_crossection)[1])\n",
        "\n",
        "#Validation data\n",
        "validation_input=np.stack(validation_data[:,0])\n",
        "validation_input=validation_input.reshape(-1,np.shape(validation_input)[1])\n",
        "validation_output=np.stack(validation_data[:,1])\n",
        "validation_output=validation_output.reshape(-1,np.shape(validation_output)[1])\n",
        "\n",
        "#result visulalization test\n",
        "#detectors plot\n",
        "plt.plot(test_detectors_readings[1])\n",
        "plt.ylabel('Normalized Emissivity')\n",
        "plt.xlabel('detector number')\n",
        "plt.show()\n",
        "\n",
        "#poloidal crossection\n",
        "vis_test_arr=np.reshape(np.array(test_poloidal_crossection), (-1,30, 30))\n",
        "plt.imshow(vis_test_arr[1])"
      ],
      "execution_count": null,
      "outputs": [
        {
          "output_type": "display_data",
          "data": {
            "image/png": "[encoded data removed]",
            "text/plain": [
              "<Figure size 432x288 with 1 Axes>"
            ]
          },
          "metadata": {
            "tags": [],
            "needs_background": "light"
          }
        },
        {
          "output_type": "execute_result",
          "data": {
            "text/plain": [
              "<matplotlib.image.AxesImage at 0x7fd235ee2940>"
            ]
          },
          "metadata": {
            "tags": []
          },
          "execution_count": 5
        },
        {
          "output_type": "display_data",
          "data": {
            "image/png": "[encoded data removed]",
            "text/plain": [
              "<Figure size 432x288 with 1 Axes>"
            ]
          },
          "metadata": {
            "tags": [],
            "needs_background": "light"
          }
        }
      ]
    },
    {
      "cell_type": "code",
      "metadata": {
        "id": "ge_ROvq48hNR",
        "cellView": "form"
      },
      "source": [
        "#@title Export data from google collab (turned off)\n",
        "\n",
        "if (False):\n",
        "  print(detectors_readings)\n",
        "  detectors_readings_df = pd.DataFrame(detectors_readings)\n",
        "  detectors_readings_df.to_csv('detectors_readings.csv')\n",
        "  files.download('detectors_readings.csv')\n",
        "\n",
        "  print(poloidal_crossection)\n",
        "  poloidal_crossection_df = pd.DataFrame(np.reshape(poloidal_crossection, (10000, 900)))\n",
        "  poloidal_crossection_df.to_csv('poloidal_crossection.csv')\n",
        "  files.download('poloidal_crossection.csv')\n",
        "\n",
        "  # more about file transfer in google collab\n",
        "  # https://towardsdatascience.com/google-colab-import-and-export-datasets-eccf801e2971"
      ],
      "execution_count": null,
      "outputs": []
    },
    {
      "cell_type": "code",
      "metadata": {
        "id": "QF0BFRXTOeR3",
        "colab": {
          "base_uri": "https://localhost:8080/"
        },
        "outputId": "897f6353-630a-40f5-8cdd-3ecdb83a459c"
      },
      "source": [
        "#@title Define the plotting function.\n",
        "\n",
        "def plot_the_loss_curve(p_epochs, p_loss_t, p_loss_v):\n",
        "  \"\"\"Plot a curve of loss vs. epoch.\"\"\"\n",
        "\n",
        "  plt.figure()\n",
        "  plt.xlabel(\"Epoch\")\n",
        "  plt.ylabel(\"Mean Squared Error\")\n",
        "\n",
        "  plt.plot(p_epochs, p_loss_t, label=\"Training Loss\")\n",
        "  plt.plot(p_epochs, p_loss_v, label=\"Validation Loss\")\n",
        "  plt.legend()\n",
        "  plt.ylim([min(p_loss_t.min(),p_loss_v.min())*0.95, max(p_loss_t.max(),p_loss_v.max()) * 1.03])\n",
        "  plt.show()  \n",
        "\n",
        "print(\"Defined the plot_the_loss_curve function.\")\n",
        "\n",
        "#Some more examples:\n",
        "#https://machinelearningmastery.com/display-deep-learning-model-training-history-in-keras/"
      ],
      "execution_count": null,
      "outputs": [
        {
          "output_type": "stream",
          "text": [
            "Defined the plot_the_loss_curve function.\n"
          ],
          "name": "stdout"
        }
      ]
    },
    {
      "cell_type": "code",
      "metadata": {
        "id": "zInFT7xCki3P"
      },
      "source": [
        "# NN definition\n",
        "def create_model(m_learning_rate):\n",
        "  #Sequential model means is used, which means no connetions between non-adjected layers\n",
        "  model = tf.keras.models.Sequential()\n",
        "\n",
        "  # Input layer with 69 neurons (one for each detetor)\n",
        "  model.add(tf.keras.layers.Dense(units=69, name='Input'))\n",
        "\n",
        "  # First hidden layer (80 neurons with sigmoid function, dense layer)\n",
        "  model.add(tf.keras.layers.Dense(units=80, activation='relu', name='Hidden1'))\n",
        "\n",
        "  # Regularization with dropout is set by adding dropout layers\n",
        "  # The 'rate' parameter specifies the fraction of nodes that the model should drop out during training.  \n",
        "  #model.add(tf.keras.layers.Dropout(rate=0.25))\n",
        "\n",
        "  # Second hidden layer (80 neurons with sigmoid function, dense layer)\n",
        "  model.add(tf.keras.layers.Dense(units=80, activation='relu', name='Hidden2'))\n",
        "\n",
        "  # Output layer with 900 neurons (30x30)\n",
        "  model.add(tf.keras.layers.Dense(units=900, name='Output'))\n",
        "\n",
        "  # Construct the layers into a model that TensorFlow can execute.\n",
        "  # Optimizer SGD stands for Stochastic Gradient Descent\n",
        "  model.compile(optimizer=tf.keras.optimizers.SGD(lr=m_learning_rate),\n",
        "                # Loss functions to minimize is set to MSE\n",
        "                loss=\"mean_squared_error\",\n",
        "                #Metrics to monitore\n",
        "                metrics=[tf.keras.metrics.MeanSquaredError()])\n",
        "  return model\n",
        "\n",
        "# To add L2 regularization, add following line as parameter of a layer \n",
        "# kernel_regularizer=tf.keras.regularizers.l2(l=0.01)\n",
        "# The l parameter is a regularization weight lambda\n",
        "# e.g. model.add(tf.keras.layers.Dense(units=30, activation='sigmoid', kernel_regularizer=tf.keras.regularizers.l2(l=0.01),name='Hidden1'))"
      ],
      "execution_count": null,
      "outputs": []
    },
    {
      "cell_type": "code",
      "metadata": {
        "id": "DQXHWlHBxp6f"
      },
      "source": [
        "#NN training definition\n",
        "def train_model(model, input_data, train_output, epochs, validation_split,\n",
        "                batch_size=None):\n",
        "  \"\"\"Train the model by feeding it data.\"\"\"\n",
        "\n",
        "  history = model.fit(x=input_data, y=train_output, batch_size=batch_size,\n",
        "                      epochs=epochs, shuffle=True, \n",
        "                      validation_split=validation_split)\n",
        "  \n",
        "  # The list of epochs is stored separately from the rest of history.\n",
        "  epochs = np.array(history.epoch)\n",
        "\n",
        "  # To track the progression of training, gather a snapshot\n",
        "  # of the model's metrics at each epoch. \n",
        "  hist = pd.DataFrame(history.history)\n",
        "  loss_t = hist[\"loss\"]\n",
        "  loss_v = hist[\"val_loss\"]\n",
        "\n",
        "  return epochs, loss_t, loss_v  "
      ],
      "execution_count": null,
      "outputs": []
    },
    {
      "cell_type": "code",
      "metadata": {
        "id": "pj428LZat-gQ"
      },
      "source": [
        "# Hiperparameters definition\n",
        "\n",
        "learning_rate = 20\n",
        "number_of_epochs = 200\n",
        "batch_size = 10\n",
        "validation_split = 0.1\n"
      ],
      "execution_count": null,
      "outputs": []
    },
    {
      "cell_type": "code",
      "metadata": {
        "colab": {
          "base_uri": "https://localhost:8080/"
        },
        "id": "HXa4BAtflrm2",
        "outputId": "e2d74f22-00a0-44ce-e150-555a48331f48"
      },
      "source": [
        "#Create NN\n",
        "\n",
        "Run_model = create_model(learning_rate)\n",
        "print(\"Neural network has been set up\")\n",
        "\n",
        "#Create new arrays to store full record of loss function\n",
        "epochs_full = np.array([])\n",
        "loss_t_full = np.array([])\n",
        "loss_v_full = np.array([])"
      ],
      "execution_count": null,
      "outputs": [
        {
          "output_type": "stream",
          "text": [
            "Neural network has been set up\n"
          ],
          "name": "stdout"
        }
      ]
    },
    {
      "cell_type": "code",
      "metadata": {
        "id": "rGeG0xc5y3ZO",
        "colab": {
          "base_uri": "https://localhost:8080/",
          "height": 1000
        },
        "outputId": "2de59c93-a69f-4e0a-e9cc-197245b64189"
      },
      "source": [
        "#Trian NN\n",
        "\n",
        "epochs, loss_t, loss_v = train_model(Run_model, detectors_readings, poloidal_crossection, number_of_epochs, validation_split, batch_size)\n",
        "\n",
        "#plot loss function from training\n",
        "plot_the_loss_curve(epochs, loss_t, loss_v)\n",
        "\n",
        "#plot loss function from all trainings done on this NN\n",
        "epochs_full = np.append(epochs_full,epochs+len(epochs_full))\n",
        "loss_t_full = np.append(loss_t_full,loss_t)\n",
        "loss_v_full = np.append(loss_v_full,loss_v)\n",
        "plot_the_loss_curve(epochs_full, loss_t_full, loss_v_full)\n",
        "\n",
        "# Evaluation agains separated test set\n",
        "print(\"\\n Evaluate the new model against the test set:\")\n",
        "Run_model.evaluate(x = test_detectors_readings, y = test_poloidal_crossection, batch_size=batch_size)"
      ],
      "execution_count": null,
      "outputs": [
        {
          "output_type": "stream",
          "text": [
            "Epoch 1/200\n",
            "210/210 [==============================] - 1s 3ms/step - loss: 0.0219 - mean_squared_error: 0.0219 - val_loss: 0.0212 - val_mean_squared_error: 0.0212\n",
            "Epoch 2/200\n",
            "210/210 [==============================] - 0s 2ms/step - loss: 0.0099 - mean_squared_error: 0.0099 - val_loss: 0.0124 - val_mean_squared_error: 0.0124\n",
            "Epoch 3/200\n",
            "210/210 [==============================] - 0s 2ms/step - loss: 0.0068 - mean_squared_error: 0.0068 - val_loss: 0.0078 - val_mean_squared_error: 0.0078\n",
            "Epoch 4/200\n",
            "210/210 [==============================] - 0s 2ms/step - loss: 0.0045 - mean_squared_error: 0.0045 - val_loss: 0.0070 - val_mean_squared_error: 0.0070\n",
            "Epoch 5/200\n",
            "210/210 [==============================] - 0s 2ms/step - loss: 0.0036 - mean_squared_error: 0.0036 - val_loss: 0.0058 - val_mean_squared_error: 0.0058\n",
            "Epoch 6/200\n",
            "210/210 [==============================] - 0s 2ms/step - loss: 0.0033 - mean_squared_error: 0.0033 - val_loss: 0.0075 - val_mean_squared_error: 0.0075\n",
            "Epoch 7/200\n",
            "210/210 [==============================] - 0s 2ms/step - loss: 0.0029 - mean_squared_error: 0.0029 - val_loss: 0.0056 - val_mean_squared_error: 0.0056\n",
            "Epoch 8/200\n",
            "210/210 [==============================] - 0s 2ms/step - loss: 0.0027 - mean_squared_error: 0.0027 - val_loss: 0.0051 - val_mean_squared_error: 0.0051\n",
            "Epoch 9/200\n",
            "210/210 [==============================] - 0s 2ms/step - loss: 0.0026 - mean_squared_error: 0.0026 - val_loss: 0.0050 - val_mean_squared_error: 0.0050\n",
            "Epoch 10/200\n",
            "210/210 [==============================] - 0s 2ms/step - loss: 0.0024 - mean_squared_error: 0.0024 - val_loss: 0.0039 - val_mean_squared_error: 0.0039\n",
            "Epoch 11/200\n",
            "210/210 [==============================] - 0s 2ms/step - loss: 0.0022 - mean_squared_error: 0.0022 - val_loss: 0.0040 - val_mean_squared_error: 0.0040\n",
            "Epoch 12/200\n",
            "210/210 [==============================] - 0s 2ms/step - loss: 0.0021 - mean_squared_error: 0.0021 - val_loss: 0.0035 - val_mean_squared_error: 0.0035\n",
            "Epoch 13/200\n",
            "210/210 [==============================] - 0s 2ms/step - loss: 0.0021 - mean_squared_error: 0.0021 - val_loss: 0.0035 - val_mean_squared_error: 0.0035\n",
            "Epoch 14/200\n",
            "210/210 [==============================] - 0s 2ms/step - loss: 0.0019 - mean_squared_error: 0.0019 - val_loss: 0.0041 - val_mean_squared_error: 0.0041\n",
            "Epoch 15/200\n",
            "210/210 [==============================] - 0s 2ms/step - loss: 0.0019 - mean_squared_error: 0.0019 - val_loss: 0.0041 - val_mean_squared_error: 0.0041\n",
            "Epoch 16/200\n",
            "210/210 [==============================] - 0s 2ms/step - loss: 0.0019 - mean_squared_error: 0.0019 - val_loss: 0.0033 - val_mean_squared_error: 0.0033\n",
            "Epoch 17/200\n",
            "210/210 [==============================] - 0s 2ms/step - loss: 0.0018 - mean_squared_error: 0.0018 - val_loss: 0.0046 - val_mean_squared_error: 0.0046\n",
            "Epoch 18/200\n",
            "210/210 [==============================] - 0s 2ms/step - loss: 0.0018 - mean_squared_error: 0.0018 - val_loss: 0.0034 - val_mean_squared_error: 0.0034\n",
            "Epoch 19/200\n",
            "210/210 [==============================] - 0s 2ms/step - loss: 0.0016 - mean_squared_error: 0.0016 - val_loss: 0.0032 - val_mean_squared_error: 0.0032\n",
            "Epoch 20/200\n",
            "210/210 [==============================] - 0s 2ms/step - loss: 0.0017 - mean_squared_error: 0.0017 - val_loss: 0.0028 - val_mean_squared_error: 0.0028\n",
            "Epoch 21/200\n",
            "210/210 [==============================] - 0s 2ms/step - loss: 0.0016 - mean_squared_error: 0.0016 - val_loss: 0.0032 - val_mean_squared_error: 0.0032\n",
            "Epoch 22/200\n",
            "210/210 [==============================] - 0s 2ms/step - loss: 0.0018 - mean_squared_error: 0.0018 - val_loss: 0.0027 - val_mean_squared_error: 0.0027\n",
            "Epoch 23/200\n",
            "210/210 [==============================] - 0s 2ms/step - loss: 0.0015 - mean_squared_error: 0.0015 - val_loss: 0.0027 - val_mean_squared_error: 0.0027\n",
            "Epoch 24/200\n",
            "210/210 [==============================] - 0s 2ms/step - loss: 0.0016 - mean_squared_error: 0.0016 - val_loss: 0.0032 - val_mean_squared_error: 0.0032\n",
            "Epoch 25/200\n",
            "210/210 [==============================] - 0s 2ms/step - loss: 0.0015 - mean_squared_error: 0.0015 - val_loss: 0.0034 - val_mean_squared_error: 0.0034\n",
            "Epoch 26/200\n",
            "210/210 [==============================] - 0s 2ms/step - loss: 0.0015 - mean_squared_error: 0.0015 - val_loss: 0.0027 - val_mean_squared_error: 0.0027\n",
            "Epoch 27/200\n",
            "210/210 [==============================] - 0s 2ms/step - loss: 0.0014 - mean_squared_error: 0.0014 - val_loss: 0.0035 - val_mean_squared_error: 0.0035\n",
            "Epoch 28/200\n",
            "210/210 [==============================] - 0s 2ms/step - loss: 0.0014 - mean_squared_error: 0.0014 - val_loss: 0.0031 - val_mean_squared_error: 0.0031\n",
            "Epoch 29/200\n",
            "210/210 [==============================] - 0s 2ms/step - loss: 0.0014 - mean_squared_error: 0.0014 - val_loss: 0.0026 - val_mean_squared_error: 0.0026\n",
            "Epoch 30/200\n",
            "210/210 [==============================] - 0s 2ms/step - loss: 0.0013 - mean_squared_error: 0.0013 - val_loss: 0.0025 - val_mean_squared_error: 0.0025\n",
            "Epoch 31/200\n",
            "210/210 [==============================] - 0s 2ms/step - loss: 0.0014 - mean_squared_error: 0.0014 - val_loss: 0.0026 - val_mean_squared_error: 0.0026\n",
            "Epoch 32/200\n",
            "210/210 [==============================] - 0s 2ms/step - loss: 0.0013 - mean_squared_error: 0.0013 - val_loss: 0.0030 - val_mean_squared_error: 0.0030\n",
            "Epoch 33/200\n",
            "210/210 [==============================] - 0s 2ms/step - loss: 0.0013 - mean_squared_error: 0.0013 - val_loss: 0.0029 - val_mean_squared_error: 0.0029\n",
            "Epoch 34/200\n",
            "210/210 [==============================] - 0s 2ms/step - loss: 0.0015 - mean_squared_error: 0.0015 - val_loss: 0.0025 - val_mean_squared_error: 0.0025\n",
            "Epoch 35/200\n",
            "210/210 [==============================] - 0s 2ms/step - loss: 0.0013 - mean_squared_error: 0.0013 - val_loss: 0.0023 - val_mean_squared_error: 0.0023\n",
            "Epoch 36/200\n",
            "210/210 [==============================] - 0s 2ms/step - loss: 0.0013 - mean_squared_error: 0.0013 - val_loss: 0.0025 - val_mean_squared_error: 0.0025\n",
            "Epoch 37/200\n",
            "210/210 [==============================] - 0s 2ms/step - loss: 0.0013 - mean_squared_error: 0.0013 - val_loss: 0.0022 - val_mean_squared_error: 0.0022\n",
            "Epoch 38/200\n",
            "210/210 [==============================] - 0s 2ms/step - loss: 0.0012 - mean_squared_error: 0.0012 - val_loss: 0.0024 - val_mean_squared_error: 0.0024\n",
            "Epoch 39/200\n",
            "210/210 [==============================] - 0s 2ms/step - loss: 0.0012 - mean_squared_error: 0.0012 - val_loss: 0.0022 - val_mean_squared_error: 0.0022\n",
            "Epoch 40/200\n",
            "210/210 [==============================] - 0s 2ms/step - loss: 0.0012 - mean_squared_error: 0.0012 - val_loss: 0.0025 - val_mean_squared_error: 0.0025\n",
            "Epoch 41/200\n",
            "210/210 [==============================] - 0s 2ms/step - loss: 0.0013 - mean_squared_error: 0.0013 - val_loss: 0.0028 - val_mean_squared_error: 0.0028\n",
            "Epoch 42/200\n",
            "210/210 [==============================] - 0s 2ms/step - loss: 0.0012 - mean_squared_error: 0.0012 - val_loss: 0.0023 - val_mean_squared_error: 0.0023\n",
            "Epoch 43/200\n",
            "210/210 [==============================] - 0s 2ms/step - loss: 0.0013 - mean_squared_error: 0.0013 - val_loss: 0.0027 - val_mean_squared_error: 0.0027\n",
            "Epoch 44/200\n",
            "210/210 [==============================] - 0s 2ms/step - loss: 0.0012 - mean_squared_error: 0.0012 - val_loss: 0.0030 - val_mean_squared_error: 0.0030\n",
            "Epoch 45/200\n",
            "210/210 [==============================] - 0s 2ms/step - loss: 0.0013 - mean_squared_error: 0.0013 - val_loss: 0.0023 - val_mean_squared_error: 0.0023\n",
            "Epoch 46/200\n",
            "210/210 [==============================] - 0s 2ms/step - loss: 0.0012 - mean_squared_error: 0.0012 - val_loss: 0.0028 - val_mean_squared_error: 0.0028\n",
            "Epoch 47/200\n",
            "210/210 [==============================] - 0s 2ms/step - loss: 0.0012 - mean_squared_error: 0.0012 - val_loss: 0.0021 - val_mean_squared_error: 0.0021\n",
            "Epoch 48/200\n",
            "210/210 [==============================] - 0s 2ms/step - loss: 0.0012 - mean_squared_error: 0.0012 - val_loss: 0.0023 - val_mean_squared_error: 0.0023\n",
            "Epoch 49/200\n",
            "210/210 [==============================] - 0s 2ms/step - loss: 0.0012 - mean_squared_error: 0.0012 - val_loss: 0.0022 - val_mean_squared_error: 0.0022\n",
            "Epoch 50/200\n",
            "210/210 [==============================] - 0s 2ms/step - loss: 0.0011 - mean_squared_error: 0.0011 - val_loss: 0.0021 - val_mean_squared_error: 0.0021\n",
            "Epoch 51/200\n",
            "210/210 [==============================] - 0s 2ms/step - loss: 0.0011 - mean_squared_error: 0.0011 - val_loss: 0.0021 - val_mean_squared_error: 0.0021\n",
            "Epoch 52/200\n",
            "210/210 [==============================] - 0s 2ms/step - loss: 0.0011 - mean_squared_error: 0.0011 - val_loss: 0.0024 - val_mean_squared_error: 0.0024\n",
            "Epoch 53/200\n",
            "210/210 [==============================] - 0s 2ms/step - loss: 0.0011 - mean_squared_error: 0.0011 - val_loss: 0.0020 - val_mean_squared_error: 0.0020\n",
            "Epoch 54/200\n",
            "210/210 [==============================] - 0s 2ms/step - loss: 0.0011 - mean_squared_error: 0.0011 - val_loss: 0.0021 - val_mean_squared_error: 0.0021\n",
            "Epoch 55/200\n",
            "210/210 [==============================] - 0s 2ms/step - loss: 0.0011 - mean_squared_error: 0.0011 - val_loss: 0.0021 - val_mean_squared_error: 0.0021\n",
            "Epoch 56/200\n",
            "210/210 [==============================] - 0s 2ms/step - loss: 0.0011 - mean_squared_error: 0.0011 - val_loss: 0.0024 - val_mean_squared_error: 0.0024\n",
            "Epoch 57/200\n",
            "210/210 [==============================] - 0s 2ms/step - loss: 0.0011 - mean_squared_error: 0.0011 - val_loss: 0.0021 - val_mean_squared_error: 0.0021\n",
            "Epoch 58/200\n",
            "210/210 [==============================] - 0s 2ms/step - loss: 0.0011 - mean_squared_error: 0.0011 - val_loss: 0.0022 - val_mean_squared_error: 0.0022\n",
            "Epoch 59/200\n",
            "210/210 [==============================] - 0s 2ms/step - loss: 0.0011 - mean_squared_error: 0.0011 - val_loss: 0.0031 - val_mean_squared_error: 0.0031\n",
            "Epoch 60/200\n",
            "210/210 [==============================] - 0s 2ms/step - loss: 0.0011 - mean_squared_error: 0.0011 - val_loss: 0.0023 - val_mean_squared_error: 0.0023\n",
            "Epoch 61/200\n",
            "210/210 [==============================] - 0s 2ms/step - loss: 0.0010 - mean_squared_error: 0.0010 - val_loss: 0.0025 - val_mean_squared_error: 0.0025\n",
            "Epoch 62/200\n",
            "210/210 [==============================] - 0s 2ms/step - loss: 0.0011 - mean_squared_error: 0.0011 - val_loss: 0.0025 - val_mean_squared_error: 0.0025\n",
            "Epoch 63/200\n",
            "210/210 [==============================] - 0s 2ms/step - loss: 0.0011 - mean_squared_error: 0.0011 - val_loss: 0.0021 - val_mean_squared_error: 0.0021\n",
            "Epoch 64/200\n",
            "210/210 [==============================] - 0s 2ms/step - loss: 0.0010 - mean_squared_error: 0.0010 - val_loss: 0.0021 - val_mean_squared_error: 0.0021\n",
            "Epoch 65/200\n",
            "210/210 [==============================] - 0s 2ms/step - loss: 0.0011 - mean_squared_error: 0.0011 - val_loss: 0.0022 - val_mean_squared_error: 0.0022\n",
            "Epoch 66/200\n",
            "210/210 [==============================] - 0s 2ms/step - loss: 0.0011 - mean_squared_error: 0.0011 - val_loss: 0.0021 - val_mean_squared_error: 0.0021\n",
            "Epoch 67/200\n",
            "210/210 [==============================] - 0s 2ms/step - loss: 0.0010 - mean_squared_error: 0.0010 - val_loss: 0.0020 - val_mean_squared_error: 0.0020\n",
            "Epoch 68/200\n",
            "210/210 [==============================] - 0s 2ms/step - loss: 0.0010 - mean_squared_error: 0.0010 - val_loss: 0.0019 - val_mean_squared_error: 0.0019\n",
            "Epoch 69/200\n",
            "210/210 [==============================] - 0s 2ms/step - loss: 9.8708e-04 - mean_squared_error: 9.8708e-04 - val_loss: 0.0020 - val_mean_squared_error: 0.0020\n",
            "Epoch 70/200\n",
            "210/210 [==============================] - 0s 2ms/step - loss: 0.0010 - mean_squared_error: 0.0010 - val_loss: 0.0018 - val_mean_squared_error: 0.0018\n",
            "Epoch 71/200\n",
            "210/210 [==============================] - 0s 2ms/step - loss: 0.0010 - mean_squared_error: 0.0010 - val_loss: 0.0019 - val_mean_squared_error: 0.0019\n",
            "Epoch 72/200\n",
            "210/210 [==============================] - 0s 2ms/step - loss: 0.0010 - mean_squared_error: 0.0010 - val_loss: 0.0022 - val_mean_squared_error: 0.0022\n",
            "Epoch 73/200\n",
            "210/210 [==============================] - 0s 2ms/step - loss: 0.0010 - mean_squared_error: 0.0010 - val_loss: 0.0022 - val_mean_squared_error: 0.0022\n",
            "Epoch 74/200\n",
            "210/210 [==============================] - 0s 2ms/step - loss: 9.8055e-04 - mean_squared_error: 9.8055e-04 - val_loss: 0.0021 - val_mean_squared_error: 0.0021\n",
            "Epoch 75/200\n",
            "210/210 [==============================] - 0s 2ms/step - loss: 9.7758e-04 - mean_squared_error: 9.7758e-04 - val_loss: 0.0020 - val_mean_squared_error: 0.0020\n",
            "Epoch 76/200\n",
            "210/210 [==============================] - 0s 2ms/step - loss: 9.8885e-04 - mean_squared_error: 9.8885e-04 - val_loss: 0.0024 - val_mean_squared_error: 0.0024\n",
            "Epoch 77/200\n",
            "210/210 [==============================] - 0s 2ms/step - loss: 0.0010 - mean_squared_error: 0.0010 - val_loss: 0.0019 - val_mean_squared_error: 0.0019\n",
            "Epoch 78/200\n",
            "210/210 [==============================] - 0s 2ms/step - loss: 9.9556e-04 - mean_squared_error: 9.9556e-04 - val_loss: 0.0020 - val_mean_squared_error: 0.0020\n",
            "Epoch 79/200\n",
            "210/210 [==============================] - 0s 2ms/step - loss: 9.8229e-04 - mean_squared_error: 9.8229e-04 - val_loss: 0.0026 - val_mean_squared_error: 0.0026\n",
            "Epoch 80/200\n",
            "210/210 [==============================] - 0s 2ms/step - loss: 0.0010 - mean_squared_error: 0.0010 - val_loss: 0.0018 - val_mean_squared_error: 0.0018\n",
            "Epoch 81/200\n",
            "210/210 [==============================] - 0s 2ms/step - loss: 9.4859e-04 - mean_squared_error: 9.4859e-04 - val_loss: 0.0019 - val_mean_squared_error: 0.0019\n",
            "Epoch 82/200\n",
            "210/210 [==============================] - 0s 2ms/step - loss: 9.6215e-04 - mean_squared_error: 9.6215e-04 - val_loss: 0.0019 - val_mean_squared_error: 0.0019\n",
            "Epoch 83/200\n",
            "210/210 [==============================] - 0s 2ms/step - loss: 9.4105e-04 - mean_squared_error: 9.4105e-04 - val_loss: 0.0019 - val_mean_squared_error: 0.0019\n",
            "Epoch 84/200\n",
            "210/210 [==============================] - 0s 2ms/step - loss: 9.5943e-04 - mean_squared_error: 9.5943e-04 - val_loss: 0.0024 - val_mean_squared_error: 0.0024\n",
            "Epoch 85/200\n",
            "210/210 [==============================] - 0s 2ms/step - loss: 9.8621e-04 - mean_squared_error: 9.8621e-04 - val_loss: 0.0019 - val_mean_squared_error: 0.0019\n",
            "Epoch 86/200\n",
            "210/210 [==============================] - 0s 2ms/step - loss: 9.7494e-04 - mean_squared_error: 9.7494e-04 - val_loss: 0.0019 - val_mean_squared_error: 0.0019\n",
            "Epoch 87/200\n",
            "210/210 [==============================] - 0s 2ms/step - loss: 9.3661e-04 - mean_squared_error: 9.3661e-04 - val_loss: 0.0019 - val_mean_squared_error: 0.0019\n",
            "Epoch 88/200\n",
            "210/210 [==============================] - 0s 2ms/step - loss: 9.5826e-04 - mean_squared_error: 9.5826e-04 - val_loss: 0.0020 - val_mean_squared_error: 0.0020\n",
            "Epoch 89/200\n",
            "210/210 [==============================] - 0s 2ms/step - loss: 9.2494e-04 - mean_squared_error: 9.2494e-04 - val_loss: 0.0019 - val_mean_squared_error: 0.0019\n",
            "Epoch 90/200\n",
            "210/210 [==============================] - 0s 2ms/step - loss: 9.6355e-04 - mean_squared_error: 9.6355e-04 - val_loss: 0.0020 - val_mean_squared_error: 0.0020\n",
            "Epoch 91/200\n",
            "210/210 [==============================] - 0s 2ms/step - loss: 9.3812e-04 - mean_squared_error: 9.3812e-04 - val_loss: 0.0019 - val_mean_squared_error: 0.0019\n",
            "Epoch 92/200\n",
            "210/210 [==============================] - 0s 2ms/step - loss: 9.2050e-04 - mean_squared_error: 9.2050e-04 - val_loss: 0.0018 - val_mean_squared_error: 0.0018\n",
            "Epoch 93/200\n",
            "210/210 [==============================] - 0s 2ms/step - loss: 9.4371e-04 - mean_squared_error: 9.4371e-04 - val_loss: 0.0022 - val_mean_squared_error: 0.0022\n",
            "Epoch 94/200\n",
            "210/210 [==============================] - 0s 2ms/step - loss: 9.2724e-04 - mean_squared_error: 9.2724e-04 - val_loss: 0.0019 - val_mean_squared_error: 0.0019\n",
            "Epoch 95/200\n",
            "210/210 [==============================] - 0s 2ms/step - loss: 9.4248e-04 - mean_squared_error: 9.4248e-04 - val_loss: 0.0019 - val_mean_squared_error: 0.0019\n",
            "Epoch 96/200\n",
            "210/210 [==============================] - 0s 2ms/step - loss: 9.1908e-04 - mean_squared_error: 9.1908e-04 - val_loss: 0.0020 - val_mean_squared_error: 0.0020\n",
            "Epoch 97/200\n",
            "210/210 [==============================] - 0s 2ms/step - loss: 9.4912e-04 - mean_squared_error: 9.4912e-04 - val_loss: 0.0017 - val_mean_squared_error: 0.0017\n",
            "Epoch 98/200\n",
            "210/210 [==============================] - 0s 2ms/step - loss: 9.3321e-04 - mean_squared_error: 9.3321e-04 - val_loss: 0.0017 - val_mean_squared_error: 0.0017\n",
            "Epoch 99/200\n",
            "210/210 [==============================] - 0s 2ms/step - loss: 9.2252e-04 - mean_squared_error: 9.2252e-04 - val_loss: 0.0025 - val_mean_squared_error: 0.0025\n",
            "Epoch 100/200\n",
            "210/210 [==============================] - 0s 2ms/step - loss: 9.3740e-04 - mean_squared_error: 9.3740e-04 - val_loss: 0.0018 - val_mean_squared_error: 0.0018\n",
            "Epoch 101/200\n",
            "210/210 [==============================] - 0s 2ms/step - loss: 9.8141e-04 - mean_squared_error: 9.8141e-04 - val_loss: 0.0020 - val_mean_squared_error: 0.0020\n",
            "Epoch 102/200\n",
            "210/210 [==============================] - 0s 2ms/step - loss: 9.4417e-04 - mean_squared_error: 9.4417e-04 - val_loss: 0.0018 - val_mean_squared_error: 0.0018\n",
            "Epoch 103/200\n",
            "210/210 [==============================] - 0s 2ms/step - loss: 8.9813e-04 - mean_squared_error: 8.9813e-04 - val_loss: 0.0018 - val_mean_squared_error: 0.0018\n",
            "Epoch 104/200\n",
            "210/210 [==============================] - 0s 2ms/step - loss: 8.9921e-04 - mean_squared_error: 8.9921e-04 - val_loss: 0.0020 - val_mean_squared_error: 0.0020\n",
            "Epoch 105/200\n",
            "210/210 [==============================] - 0s 2ms/step - loss: 9.4454e-04 - mean_squared_error: 9.4454e-04 - val_loss: 0.0018 - val_mean_squared_error: 0.0018\n",
            "Epoch 106/200\n",
            "210/210 [==============================] - 0s 2ms/step - loss: 9.0985e-04 - mean_squared_error: 9.0985e-04 - val_loss: 0.0018 - val_mean_squared_error: 0.0018\n",
            "Epoch 107/200\n",
            "210/210 [==============================] - 0s 2ms/step - loss: 9.0445e-04 - mean_squared_error: 9.0445e-04 - val_loss: 0.0033 - val_mean_squared_error: 0.0033\n",
            "Epoch 108/200\n",
            "210/210 [==============================] - 0s 2ms/step - loss: 9.6378e-04 - mean_squared_error: 9.6378e-04 - val_loss: 0.0027 - val_mean_squared_error: 0.0027\n",
            "Epoch 109/200\n",
            "210/210 [==============================] - 0s 2ms/step - loss: 9.0703e-04 - mean_squared_error: 9.0703e-04 - val_loss: 0.0017 - val_mean_squared_error: 0.0017\n",
            "Epoch 110/200\n",
            "210/210 [==============================] - 0s 2ms/step - loss: 8.8981e-04 - mean_squared_error: 8.8981e-04 - val_loss: 0.0020 - val_mean_squared_error: 0.0020\n",
            "Epoch 111/200\n",
            "210/210 [==============================] - 0s 2ms/step - loss: 9.1138e-04 - mean_squared_error: 9.1138e-04 - val_loss: 0.0019 - val_mean_squared_error: 0.0019\n",
            "Epoch 112/200\n",
            "210/210 [==============================] - 1s 2ms/step - loss: 9.1028e-04 - mean_squared_error: 9.1028e-04 - val_loss: 0.0018 - val_mean_squared_error: 0.0018\n",
            "Epoch 113/200\n",
            "210/210 [==============================] - 0s 2ms/step - loss: 8.9556e-04 - mean_squared_error: 8.9556e-04 - val_loss: 0.0017 - val_mean_squared_error: 0.0017\n",
            "Epoch 114/200\n",
            "210/210 [==============================] - 0s 2ms/step - loss: 8.9893e-04 - mean_squared_error: 8.9893e-04 - val_loss: 0.0018 - val_mean_squared_error: 0.0018\n",
            "Epoch 115/200\n",
            "210/210 [==============================] - 0s 2ms/step - loss: 8.9750e-04 - mean_squared_error: 8.9750e-04 - val_loss: 0.0026 - val_mean_squared_error: 0.0026\n",
            "Epoch 116/200\n",
            "210/210 [==============================] - 0s 2ms/step - loss: 8.9465e-04 - mean_squared_error: 8.9465e-04 - val_loss: 0.0018 - val_mean_squared_error: 0.0018\n",
            "Epoch 117/200\n",
            "210/210 [==============================] - 0s 2ms/step - loss: 8.8182e-04 - mean_squared_error: 8.8182e-04 - val_loss: 0.0019 - val_mean_squared_error: 0.0019\n",
            "Epoch 118/200\n",
            "210/210 [==============================] - 0s 2ms/step - loss: 8.8524e-04 - mean_squared_error: 8.8524e-04 - val_loss: 0.0018 - val_mean_squared_error: 0.0018\n",
            "Epoch 119/200\n",
            "210/210 [==============================] - 0s 2ms/step - loss: 8.6567e-04 - mean_squared_error: 8.6567e-04 - val_loss: 0.0019 - val_mean_squared_error: 0.0019\n",
            "Epoch 120/200\n",
            "210/210 [==============================] - 0s 2ms/step - loss: 8.8299e-04 - mean_squared_error: 8.8299e-04 - val_loss: 0.0019 - val_mean_squared_error: 0.0019\n",
            "Epoch 121/200\n",
            "210/210 [==============================] - 0s 2ms/step - loss: 9.0235e-04 - mean_squared_error: 9.0235e-04 - val_loss: 0.0018 - val_mean_squared_error: 0.0018\n",
            "Epoch 122/200\n",
            "210/210 [==============================] - 0s 2ms/step - loss: 8.5039e-04 - mean_squared_error: 8.5039e-04 - val_loss: 0.0018 - val_mean_squared_error: 0.0018\n",
            "Epoch 123/200\n",
            "210/210 [==============================] - 0s 2ms/step - loss: 8.9664e-04 - mean_squared_error: 8.9664e-04 - val_loss: 0.0017 - val_mean_squared_error: 0.0017\n",
            "Epoch 124/200\n",
            "210/210 [==============================] - 0s 2ms/step - loss: 8.3808e-04 - mean_squared_error: 8.3808e-04 - val_loss: 0.0019 - val_mean_squared_error: 0.0019\n",
            "Epoch 125/200\n",
            "210/210 [==============================] - 0s 2ms/step - loss: 8.9344e-04 - mean_squared_error: 8.9344e-04 - val_loss: 0.0018 - val_mean_squared_error: 0.0018\n",
            "Epoch 126/200\n",
            "210/210 [==============================] - 0s 2ms/step - loss: 8.7891e-04 - mean_squared_error: 8.7891e-04 - val_loss: 0.0018 - val_mean_squared_error: 0.0018\n",
            "Epoch 127/200\n",
            "210/210 [==============================] - 0s 2ms/step - loss: 8.6074e-04 - mean_squared_error: 8.6074e-04 - val_loss: 0.0019 - val_mean_squared_error: 0.0019\n",
            "Epoch 128/200\n",
            "210/210 [==============================] - 0s 2ms/step - loss: 8.9729e-04 - mean_squared_error: 8.9729e-04 - val_loss: 0.0020 - val_mean_squared_error: 0.0020\n",
            "Epoch 129/200\n",
            "210/210 [==============================] - 0s 2ms/step - loss: 8.7136e-04 - mean_squared_error: 8.7136e-04 - val_loss: 0.0018 - val_mean_squared_error: 0.0018\n",
            "Epoch 130/200\n",
            "210/210 [==============================] - 0s 2ms/step - loss: 8.5267e-04 - mean_squared_error: 8.5267e-04 - val_loss: 0.0018 - val_mean_squared_error: 0.0018\n",
            "Epoch 131/200\n",
            "210/210 [==============================] - 0s 2ms/step - loss: 8.5816e-04 - mean_squared_error: 8.5816e-04 - val_loss: 0.0022 - val_mean_squared_error: 0.0022\n",
            "Epoch 132/200\n",
            "210/210 [==============================] - 0s 2ms/step - loss: 8.7187e-04 - mean_squared_error: 8.7187e-04 - val_loss: 0.0018 - val_mean_squared_error: 0.0018\n",
            "Epoch 133/200\n",
            "210/210 [==============================] - 0s 2ms/step - loss: 8.8134e-04 - mean_squared_error: 8.8134e-04 - val_loss: 0.0019 - val_mean_squared_error: 0.0019\n",
            "Epoch 134/200\n",
            "210/210 [==============================] - 0s 2ms/step - loss: 8.3965e-04 - mean_squared_error: 8.3965e-04 - val_loss: 0.0019 - val_mean_squared_error: 0.0019\n",
            "Epoch 135/200\n",
            "210/210 [==============================] - 0s 2ms/step - loss: 8.6513e-04 - mean_squared_error: 8.6513e-04 - val_loss: 0.0019 - val_mean_squared_error: 0.0019\n",
            "Epoch 136/200\n",
            "210/210 [==============================] - 0s 2ms/step - loss: 8.6607e-04 - mean_squared_error: 8.6607e-04 - val_loss: 0.0019 - val_mean_squared_error: 0.0019\n",
            "Epoch 137/200\n",
            "210/210 [==============================] - 0s 2ms/step - loss: 8.6769e-04 - mean_squared_error: 8.6769e-04 - val_loss: 0.0019 - val_mean_squared_error: 0.0019\n",
            "Epoch 138/200\n",
            "210/210 [==============================] - 0s 2ms/step - loss: 8.6755e-04 - mean_squared_error: 8.6755e-04 - val_loss: 0.0018 - val_mean_squared_error: 0.0018\n",
            "Epoch 139/200\n",
            "210/210 [==============================] - 0s 2ms/step - loss: 8.6774e-04 - mean_squared_error: 8.6774e-04 - val_loss: 0.0028 - val_mean_squared_error: 0.0028\n",
            "Epoch 140/200\n",
            "210/210 [==============================] - 0s 2ms/step - loss: 8.6478e-04 - mean_squared_error: 8.6478e-04 - val_loss: 0.0023 - val_mean_squared_error: 0.0023\n",
            "Epoch 141/200\n",
            "210/210 [==============================] - 0s 2ms/step - loss: 8.6767e-04 - mean_squared_error: 8.6767e-04 - val_loss: 0.0017 - val_mean_squared_error: 0.0017\n",
            "Epoch 142/200\n",
            "210/210 [==============================] - 0s 2ms/step - loss: 8.6021e-04 - mean_squared_error: 8.6021e-04 - val_loss: 0.0017 - val_mean_squared_error: 0.0017\n",
            "Epoch 143/200\n",
            "210/210 [==============================] - 0s 2ms/step - loss: 8.5532e-04 - mean_squared_error: 8.5532e-04 - val_loss: 0.0031 - val_mean_squared_error: 0.0031\n",
            "Epoch 144/200\n",
            "210/210 [==============================] - 0s 2ms/step - loss: 8.9695e-04 - mean_squared_error: 8.9695e-04 - val_loss: 0.0018 - val_mean_squared_error: 0.0018\n",
            "Epoch 145/200\n",
            "210/210 [==============================] - 0s 2ms/step - loss: 8.5789e-04 - mean_squared_error: 8.5789e-04 - val_loss: 0.0018 - val_mean_squared_error: 0.0018\n",
            "Epoch 146/200\n",
            "210/210 [==============================] - 0s 2ms/step - loss: 8.3956e-04 - mean_squared_error: 8.3956e-04 - val_loss: 0.0019 - val_mean_squared_error: 0.0019\n",
            "Epoch 147/200\n",
            "210/210 [==============================] - 0s 2ms/step - loss: 8.2465e-04 - mean_squared_error: 8.2465e-04 - val_loss: 0.0019 - val_mean_squared_error: 0.0019\n",
            "Epoch 148/200\n",
            "210/210 [==============================] - 0s 2ms/step - loss: 8.4400e-04 - mean_squared_error: 8.4400e-04 - val_loss: 0.0017 - val_mean_squared_error: 0.0017\n",
            "Epoch 149/200\n",
            "210/210 [==============================] - 0s 2ms/step - loss: 8.2261e-04 - mean_squared_error: 8.2261e-04 - val_loss: 0.0017 - val_mean_squared_error: 0.0017\n",
            "Epoch 150/200\n",
            "210/210 [==============================] - 0s 2ms/step - loss: 8.3720e-04 - mean_squared_error: 8.3720e-04 - val_loss: 0.0021 - val_mean_squared_error: 0.0021\n",
            "Epoch 151/200\n",
            "210/210 [==============================] - 0s 2ms/step - loss: 8.5216e-04 - mean_squared_error: 8.5216e-04 - val_loss: 0.0020 - val_mean_squared_error: 0.0020\n",
            "Epoch 152/200\n",
            "210/210 [==============================] - 0s 2ms/step - loss: 8.2436e-04 - mean_squared_error: 8.2436e-04 - val_loss: 0.0017 - val_mean_squared_error: 0.0017\n",
            "Epoch 153/200\n",
            "210/210 [==============================] - 0s 2ms/step - loss: 8.2550e-04 - mean_squared_error: 8.2550e-04 - val_loss: 0.0017 - val_mean_squared_error: 0.0017\n",
            "Epoch 154/200\n",
            "210/210 [==============================] - 0s 2ms/step - loss: 8.1859e-04 - mean_squared_error: 8.1859e-04 - val_loss: 0.0017 - val_mean_squared_error: 0.0017\n",
            "Epoch 155/200\n",
            "210/210 [==============================] - 0s 2ms/step - loss: 8.2679e-04 - mean_squared_error: 8.2679e-04 - val_loss: 0.0016 - val_mean_squared_error: 0.0016\n",
            "Epoch 156/200\n",
            "210/210 [==============================] - 0s 2ms/step - loss: 8.1319e-04 - mean_squared_error: 8.1319e-04 - val_loss: 0.0017 - val_mean_squared_error: 0.0017\n",
            "Epoch 157/200\n",
            "210/210 [==============================] - 0s 2ms/step - loss: 8.4528e-04 - mean_squared_error: 8.4528e-04 - val_loss: 0.0017 - val_mean_squared_error: 0.0017\n",
            "Epoch 158/200\n",
            "210/210 [==============================] - 0s 2ms/step - loss: 8.1637e-04 - mean_squared_error: 8.1637e-04 - val_loss: 0.0017 - val_mean_squared_error: 0.0017\n",
            "Epoch 159/200\n",
            "210/210 [==============================] - 0s 2ms/step - loss: 8.1780e-04 - mean_squared_error: 8.1780e-04 - val_loss: 0.0016 - val_mean_squared_error: 0.0016\n",
            "Epoch 160/200\n",
            "210/210 [==============================] - 0s 2ms/step - loss: 8.3769e-04 - mean_squared_error: 8.3769e-04 - val_loss: 0.0017 - val_mean_squared_error: 0.0017\n",
            "Epoch 161/200\n",
            "210/210 [==============================] - 0s 2ms/step - loss: 8.3734e-04 - mean_squared_error: 8.3734e-04 - val_loss: 0.0018 - val_mean_squared_error: 0.0018\n",
            "Epoch 162/200\n",
            "210/210 [==============================] - 0s 2ms/step - loss: 8.1713e-04 - mean_squared_error: 8.1713e-04 - val_loss: 0.0016 - val_mean_squared_error: 0.0016\n",
            "Epoch 163/200\n",
            "210/210 [==============================] - 0s 2ms/step - loss: 8.2393e-04 - mean_squared_error: 8.2393e-04 - val_loss: 0.0017 - val_mean_squared_error: 0.0017\n",
            "Epoch 164/200\n",
            "210/210 [==============================] - 0s 2ms/step - loss: 8.1137e-04 - mean_squared_error: 8.1137e-04 - val_loss: 0.0018 - val_mean_squared_error: 0.0018\n",
            "Epoch 165/200\n",
            "210/210 [==============================] - 0s 2ms/step - loss: 8.2240e-04 - mean_squared_error: 8.2240e-04 - val_loss: 0.0016 - val_mean_squared_error: 0.0016\n",
            "Epoch 166/200\n",
            "210/210 [==============================] - 0s 2ms/step - loss: 8.0614e-04 - mean_squared_error: 8.0614e-04 - val_loss: 0.0020 - val_mean_squared_error: 0.0020\n",
            "Epoch 167/200\n",
            "210/210 [==============================] - 0s 2ms/step - loss: 8.2298e-04 - mean_squared_error: 8.2298e-04 - val_loss: 0.0021 - val_mean_squared_error: 0.0021\n",
            "Epoch 168/200\n",
            "210/210 [==============================] - 0s 2ms/step - loss: 8.3661e-04 - mean_squared_error: 8.3661e-04 - val_loss: 0.0016 - val_mean_squared_error: 0.0016\n",
            "Epoch 169/200\n",
            "210/210 [==============================] - 0s 2ms/step - loss: 8.1286e-04 - mean_squared_error: 8.1286e-04 - val_loss: 0.0018 - val_mean_squared_error: 0.0018\n",
            "Epoch 170/200\n",
            "210/210 [==============================] - 0s 2ms/step - loss: 8.0565e-04 - mean_squared_error: 8.0565e-04 - val_loss: 0.0022 - val_mean_squared_error: 0.0022\n",
            "Epoch 171/200\n",
            "210/210 [==============================] - 0s 2ms/step - loss: 8.1673e-04 - mean_squared_error: 8.1673e-04 - val_loss: 0.0016 - val_mean_squared_error: 0.0016\n",
            "Epoch 172/200\n",
            "210/210 [==============================] - 0s 2ms/step - loss: 8.0580e-04 - mean_squared_error: 8.0580e-04 - val_loss: 0.0016 - val_mean_squared_error: 0.0016\n",
            "Epoch 173/200\n",
            "210/210 [==============================] - 0s 2ms/step - loss: 8.1864e-04 - mean_squared_error: 8.1864e-04 - val_loss: 0.0016 - val_mean_squared_error: 0.0016\n",
            "Epoch 174/200\n",
            "210/210 [==============================] - 0s 2ms/step - loss: 8.0229e-04 - mean_squared_error: 8.0229e-04 - val_loss: 0.0018 - val_mean_squared_error: 0.0018\n",
            "Epoch 175/200\n",
            "210/210 [==============================] - 0s 2ms/step - loss: 8.0616e-04 - mean_squared_error: 8.0616e-04 - val_loss: 0.0018 - val_mean_squared_error: 0.0018\n",
            "Epoch 176/200\n",
            "210/210 [==============================] - 0s 2ms/step - loss: 8.2696e-04 - mean_squared_error: 8.2696e-04 - val_loss: 0.0017 - val_mean_squared_error: 0.0017\n",
            "Epoch 177/200\n",
            "210/210 [==============================] - 0s 2ms/step - loss: 8.1618e-04 - mean_squared_error: 8.1618e-04 - val_loss: 0.0016 - val_mean_squared_error: 0.0016\n",
            "Epoch 178/200\n",
            "210/210 [==============================] - 0s 2ms/step - loss: 7.9755e-04 - mean_squared_error: 7.9755e-04 - val_loss: 0.0016 - val_mean_squared_error: 0.0016\n",
            "Epoch 179/200\n",
            "210/210 [==============================] - 0s 2ms/step - loss: 8.2482e-04 - mean_squared_error: 8.2482e-04 - val_loss: 0.0016 - val_mean_squared_error: 0.0016\n",
            "Epoch 180/200\n",
            "210/210 [==============================] - 0s 2ms/step - loss: 7.9450e-04 - mean_squared_error: 7.9450e-04 - val_loss: 0.0016 - val_mean_squared_error: 0.0016\n",
            "Epoch 181/200\n",
            "210/210 [==============================] - 0s 2ms/step - loss: 7.9761e-04 - mean_squared_error: 7.9761e-04 - val_loss: 0.0017 - val_mean_squared_error: 0.0017\n",
            "Epoch 182/200\n",
            "210/210 [==============================] - 0s 2ms/step - loss: 7.9266e-04 - mean_squared_error: 7.9266e-04 - val_loss: 0.0016 - val_mean_squared_error: 0.0016\n",
            "Epoch 183/200\n",
            "210/210 [==============================] - 0s 2ms/step - loss: 7.9524e-04 - mean_squared_error: 7.9524e-04 - val_loss: 0.0019 - val_mean_squared_error: 0.0019\n",
            "Epoch 184/200\n",
            "210/210 [==============================] - 0s 2ms/step - loss: 8.0992e-04 - mean_squared_error: 8.0992e-04 - val_loss: 0.0017 - val_mean_squared_error: 0.0017\n",
            "Epoch 185/200\n",
            "210/210 [==============================] - 0s 2ms/step - loss: 7.9057e-04 - mean_squared_error: 7.9057e-04 - val_loss: 0.0017 - val_mean_squared_error: 0.0017\n",
            "Epoch 186/200\n",
            "210/210 [==============================] - 0s 2ms/step - loss: 8.0140e-04 - mean_squared_error: 8.0140e-04 - val_loss: 0.0018 - val_mean_squared_error: 0.0018\n",
            "Epoch 187/200\n",
            "210/210 [==============================] - 0s 2ms/step - loss: 7.9673e-04 - mean_squared_error: 7.9673e-04 - val_loss: 0.0016 - val_mean_squared_error: 0.0016\n",
            "Epoch 188/200\n",
            "210/210 [==============================] - 0s 2ms/step - loss: 8.0285e-04 - mean_squared_error: 8.0285e-04 - val_loss: 0.0016 - val_mean_squared_error: 0.0016\n",
            "Epoch 189/200\n",
            "210/210 [==============================] - 0s 2ms/step - loss: 8.1257e-04 - mean_squared_error: 8.1257e-04 - val_loss: 0.0016 - val_mean_squared_error: 0.0016\n",
            "Epoch 190/200\n",
            "210/210 [==============================] - 0s 2ms/step - loss: 7.8939e-04 - mean_squared_error: 7.8939e-04 - val_loss: 0.0015 - val_mean_squared_error: 0.0015\n",
            "Epoch 191/200\n",
            "210/210 [==============================] - 0s 2ms/step - loss: 7.8052e-04 - mean_squared_error: 7.8052e-04 - val_loss: 0.0015 - val_mean_squared_error: 0.0015\n",
            "Epoch 192/200\n",
            "210/210 [==============================] - 0s 2ms/step - loss: 7.7644e-04 - mean_squared_error: 7.7644e-04 - val_loss: 0.0016 - val_mean_squared_error: 0.0016\n",
            "Epoch 193/200\n",
            "210/210 [==============================] - 0s 2ms/step - loss: 8.1539e-04 - mean_squared_error: 8.1539e-04 - val_loss: 0.0018 - val_mean_squared_error: 0.0018\n",
            "Epoch 194/200\n",
            "210/210 [==============================] - 1s 2ms/step - loss: 7.9815e-04 - mean_squared_error: 7.9815e-04 - val_loss: 0.0017 - val_mean_squared_error: 0.0017\n",
            "Epoch 195/200\n",
            "210/210 [==============================] - 0s 2ms/step - loss: 7.9413e-04 - mean_squared_error: 7.9413e-04 - val_loss: 0.0016 - val_mean_squared_error: 0.0016\n",
            "Epoch 196/200\n",
            "210/210 [==============================] - 0s 2ms/step - loss: 8.1854e-04 - mean_squared_error: 8.1854e-04 - val_loss: 0.0015 - val_mean_squared_error: 0.0015\n",
            "Epoch 197/200\n",
            "210/210 [==============================] - 0s 2ms/step - loss: 7.9279e-04 - mean_squared_error: 7.9279e-04 - val_loss: 0.0017 - val_mean_squared_error: 0.0017\n",
            "Epoch 198/200\n",
            "210/210 [==============================] - 0s 2ms/step - loss: 7.9278e-04 - mean_squared_error: 7.9278e-04 - val_loss: 0.0016 - val_mean_squared_error: 0.0016\n",
            "Epoch 199/200\n",
            "210/210 [==============================] - 0s 2ms/step - loss: 7.7619e-04 - mean_squared_error: 7.7619e-04 - val_loss: 0.0025 - val_mean_squared_error: 0.0025\n",
            "Epoch 200/200\n",
            "210/210 [==============================] - 0s 2ms/step - loss: 8.3592e-04 - mean_squared_error: 8.3592e-04 - val_loss: 0.0016 - val_mean_squared_error: 0.0016\n"
          ],
          "name": "stdout"
        },
        {
          "output_type": "display_data",
          "data": {
            "image/png": "[encoded data removed]",
            "text/plain": [
              "<Figure size 432x288 with 1 Axes>"
            ]
          },
          "metadata": {
            "tags": [],
            "needs_background": "light"
          }
        },
        {
          "output_type": "display_data",
          "data": {
            "image/png": "[encoded data removed]",
            "text/plain": [
              "<Figure size 432x288 with 1 Axes>"
            ]
          },
          "metadata": {
            "tags": [],
            "needs_background": "light"
          }
        },
        {
          "output_type": "stream",
          "text": [
            "\n",
            " Evaluate the new model against the test set:\n",
            "31/31 [==============================] - 0s 1ms/step - loss: 9.8236e-04 - mean_squared_error: 9.8236e-04\n"
          ],
          "name": "stdout"
        },
        {
          "output_type": "execute_result",
          "data": {
            "text/plain": [
              "[0.000982358236797154, 0.000982358236797154]"
            ]
          },
          "metadata": {
            "tags": []
          },
          "execution_count": 12
        }
      ]
    },
    {
      "cell_type": "code",
      "metadata": {
        "id": "KvDjyYUbsQhP",
        "colab": {
          "base_uri": "https://localhost:8080/",
          "height": 837
        },
        "outputId": "38399640-fde2-4aab-daf5-d84a168f0f93"
      },
      "source": [
        "# Use NN\n",
        "\n",
        "#Choose number of sample to test\n",
        "test_nr = 218\n",
        "\n",
        "print(\"Orginal image:\")\n",
        "plt.imshow(validation_output[test_nr].reshape(30, 30))\n",
        "plt.show()\n",
        "results = Run_model.predict(validation_input)\n",
        "vis_arr=np.reshape(np.array(results[test_nr]), (30, 30))\n",
        "print(\"Reconstructed image:\")\n",
        "\n",
        "plt.imshow(vis_arr, vmin=0, vmax=1)\n",
        "plt.show()\n",
        "\n",
        "plt.imshow(vis_arr)\n",
        "plt.show()\n",
        "print(\"Scale: max=\",np.max(vis_arr),\" min=\",np.min(vis_arr))\n",
        "\n",
        "print(\"Relative total emissivity error:\",\"{:.2f}\".format(((np.sum(results[test_nr])-np.sum(validation_output[test_nr]))/np.sum(validation_output[test_nr]))*100), \"%\")"
      ],
      "execution_count": null,
      "outputs": [
        {
          "output_type": "stream",
          "text": [
            "Orginal image:\n"
          ],
          "name": "stdout"
        },
        {
          "output_type": "display_data",
          "data": {
            "image/png": "[encoded data removed]",
            "text/plain": [
              "<Figure size 432x288 with 1 Axes>"
            ]
          },
          "metadata": {
            "tags": [],
            "needs_background": "light"
          }
        },
        {
          "output_type": "stream",
          "text": [
            "Reconstructed image:\n"
          ],
          "name": "stdout"
        },
        {
          "output_type": "display_data",
          "data": {
            "image/png": "[encoded data removed]",
            "text/plain": [
              "<Figure size 432x288 with 1 Axes>"
            ]
          },
          "metadata": {
            "tags": [],
            "needs_background": "light"
          }
        },
        {
          "output_type": "display_data",
          "data": {
            "image/png": "[encoded data removed]",
            "text/plain": [
              "<Figure size 432x288 with 1 Axes>"
            ]
          },
          "metadata": {
            "tags": [],
            "needs_background": "light"
          }
        },
        {
          "output_type": "stream",
          "text": [
            "Scale: max= 0.930062  min= -0.13850817\n",
            "Relative total emissivity error: -5.91 %\n"
          ],
          "name": "stdout"
        }
      ]
    },
    {
      "cell_type": "code",
      "metadata": {
        "colab": {
          "base_uri": "https://localhost:8080/"
        },
        "id": "JCXNwfaHVmgA",
        "outputId": "1eb9f523-1ad7-413b-ecb0-5a4d9b35f362"
      },
      "source": [
        "max_em = 0\n",
        "for itr in range(len(validation_data)):\n",
        "  em = ((np.sum(results[itr])-np.sum(validation_output[itr]))/np.sum(validation_output[itr]))*100\n",
        "  if abs(max_em)<abs(em):\n",
        "     max_em = em\n",
        "     max_em_index = itr\n",
        "print(max_em)\n",
        "print(max_em_index)"
      ],
      "execution_count": null,
      "outputs": [
        {
          "output_type": "stream",
          "text": [
            "-214.4895331765338\n",
            "114\n"
          ],
          "name": "stdout"
        }
      ]
    },
    {
      "cell_type": "code",
      "metadata": {
        "colab": {
          "base_uri": "https://localhost:8080/"
        },
        "id": "fwn5EjnDUqds",
        "outputId": "a91be5b7-9cde-4169-dd85-16c84a53ba59"
      },
      "source": [
        "Run_model.summary()"
      ],
      "execution_count": null,
      "outputs": [
        {
          "output_type": "stream",
          "text": [
            "Model: \"sequential\"\n",
            "_________________________________________________________________\n",
            "Layer (type)                 Output Shape              Param #   \n",
            "=================================================================\n",
            "Input (Dense)                (None, 69)                4830      \n",
            "_________________________________________________________________\n",
            "Hidden1 (Dense)              (None, 80)                5600      \n",
            "_________________________________________________________________\n",
            "Hidden2 (Dense)              (None, 80)                6480      \n",
            "_________________________________________________________________\n",
            "Output (Dense)               (None, 900)               72900     \n",
            "=================================================================\n",
            "Total params: 89,810\n",
            "Trainable params: 89,810\n",
            "Non-trainable params: 0\n",
            "_________________________________________________________________\n"
          ],
          "name": "stdout"
        }
      ]
    }
  ]
}